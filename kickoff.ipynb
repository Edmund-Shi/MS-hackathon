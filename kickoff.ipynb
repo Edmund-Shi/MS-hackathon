{
 "metadata": {
  "language_info": {
   "codemirror_mode": {
    "name": "ipython",
    "version": 3
   },
   "file_extension": ".py",
   "mimetype": "text/x-python",
   "name": "python",
   "nbconvert_exporter": "python",
   "pygments_lexer": "ipython3",
   "version": "3.7.7-final"
  },
  "orig_nbformat": 2,
  "kernelspec": {
   "name": "python37764bitazureconda2d31eaba69ae4e2cb5d1402f6c97d951",
   "display_name": "Python 3.7.7 64-bit ('azure': conda)"
  }
 },
 "nbformat": 4,
 "nbformat_minor": 2,
 "cells": [
  {
   "cell_type": "code",
   "execution_count": 1,
   "metadata": {},
   "outputs": [],
   "source": [
    "from azure.kusto.data import KustoClient, KustoConnectionStringBuilder\n",
    "from azure.kusto.data.exceptions import KustoServiceError\n",
    "from azure.kusto.data.helpers import dataframe_from_result_table\n"
   ]
  },
  {
   "cell_type": "code",
   "execution_count": null,
   "metadata": {},
   "outputs": [],
   "source": [
    "cluster = \"ddazureclients\"\n",
    "client_id = \"<insert here your AAD application id>\"\n",
    "client_secret = \"<insert here your AAD application key>\"\n",
    "authority_id = \"72f988bf-86f1-41af-91ab-2d7cd011db47\"\n",
    "\n",
    "kcsb = KustoConnectionStringBuilder.with_aad_application_key_authentication(cluster, client_id, client_secret, authority_id)\n",
    "client = KustoClient(kcsb)"
   ]
  }
 ]
}